{
 "cells": [
  {
   "metadata": {
    "tags": [
     "randomForest model training"
    ],
    "ExecuteTime": {
     "end_time": "2025-03-09T19:16:40.794978Z",
     "start_time": "2025-03-09T19:16:27.530865Z"
    }
   },
   "cell_type": "code",
   "source": [
    "import pandas as pd\n",
    "import numpy as np\n",
    "from sklearn.ensemble import RandomForestClassifier\n",
    "from sklearn.model_selection import train_test_split\n",
    "from sklearn.metrics import accuracy_score\n",
    "import joblib\n",
    "import matplotlib.pyplot as plt\n",
    "\n",
    "\n",
    "df = pd.read_csv(\"data_with_amenities_cleared.csv\", encoding=\"latin1\")\n",
    "\n",
    "# feature_columns = ['price','number_of_reviews', 'number_of_reviews_ltm', 'number_of_reviews_l30d', 'calculated_host_listings_count', 'calculated_host_listings_count_entire_homes', 'calculated_host_listings_count_private_rooms', 'calculated_host_listings_count_shared_rooms', 'host_listings_count', 'host_total_listings_count', 'host_response_rate', 'host_acceptance_rate', 'minimum_nights', 'maximum_nights', 'minimum_minimum_nights', 'maximum_minimum_nights', 'minimum_maximum_nights', 'maximum_maximum_nights', 'minimum_nights_avg_ntm', 'maximum_nights_avg_ntm','host_is_superhost', 'host_has_profile_pic', 'host_identity_verified', 'bathrooms', 'accomodate', 'bedrooms', 'beds',  'Entire guesthouse_property_type', 'Entire rental unit_property_type', 'Entire condo_property_type', 'Room in boutique hotel_property_type', 'Private room in casa particular_property_type', 'Entire home_property_type', 'Private room in rental unit_property_type', 'Private room in home_property_type', 'Entire loft_property_type', 'Room in hotel_property_type', 'Entire serviced apartment_property_type', 'Private room in condo_property_type', 'Private room in villa_property_type', 'Private room in guest suite_property_type', 'Room in aparthotel_property_type', 'Room in serviced apartment_property_type', 'Private room in townhouse_property_type', 'Private room_property_type', 'Shared room in rental unit_property_type', 'Entire guest suite_property_type', 'Private room in guesthouse_property_type', 'Private room in serviced apartment_property_type', 'Private room in hostel_property_type', 'Entire villa_property_type', 'Private room in bed and breakfast_property_type', 'Entire townhouse_property_type', 'Private room in loft_property_type', 'Shared room in home_property_type', 'Entire bungalow_property_type', 'Private room in cottage_property_type', 'Entire cabin_property_type', 'Private room in bungalow_property_type', 'Shared room in guesthouse_property_type', 'Tiny home_property_type', 'Entire cottage_property_type', 'Shared room in hostel_property_type', 'Entire place_property_type', 'Private room in tiny home_property_type', 'Farm stay_property_type', 'Entire vacation home_property_type', 'Boat_property_type', 'Ranch_property_type', 'Room in hostel_property_type', 'Casa particular_property_type', 'Camper/RV_property_type', 'Private room in resort_property_type', 'Private room in camper/rv_property_type', 'Private room in vacation home_property_type', 'Earthen home_property_type', 'Shared room in bed and breakfast_property_type', 'Private room in treehouse_property_type', 'Entire bed and breakfast_property_type', 'Private room_room_type', 'Shared room_room_type', 'Entire home/apt_room_type', 'Hotel room_room_type', 'Tha?lande_country', 'France_country', 'United Kingdom_country', 'Australie_country', 'USA_country', 'Argentine_country', 'Bresil_country', 'Japon_country', 'Espagne_country']\n",
    "\n",
    "# feature_columns = [\"price\", \"number_of_reviews_ltm\", \"number_of_reviews\",\n",
    "#     \"host_acceptance_rate\", \"host_total_listings_count\"]  \n",
    "feature_columns = ['price', 'host_listings_count', 'host_response_rate', 'host_acceptance_rate', 'minimum_nights', 'maximum_nights', 'accomodate', 'TV',  'bath_tub',  'days_since_host']\n",
    "\n",
    "\n",
    "target_column = \"prediction\" \n",
    "\n",
    "if not all(col in df.columns for col in feature_columns + [target_column]):\n",
    "    raise ValueError(\"One or more specified columns are missing in the dataset!\")\n",
    "\n",
    "categorical_cols = df[feature_columns].select_dtypes(include=[\"object\"]).columns.tolist()\n",
    "print(\"Categorical Columns:\", categorical_cols)\n",
    "\n",
    "# Select features (X) and target (y) using column names\n",
    "X = df[feature_columns]  \n",
    "y = df[target_column]    \n",
    "\n",
    "# Split data into training and testing sets (80% train, 20% test)\n",
    "X_train, X_test, y_train, y_test = train_test_split(X, y, test_size=0.2, random_state=42)\n",
    "\n",
    "# Initialize and train the Random Forest model\n",
    "rf_model = RandomForestClassifier(n_estimators=100, random_state=42)\n",
    "rf_model.fit(X_train, y_train)\n",
    "\n",
    "# Make predictions\n",
    "y_pred = rf_model.predict(X_test)\n",
    "\n",
    "# Evaluate model performance\n",
    "accuracy = accuracy_score(y_test, y_pred)\n",
    "print(f\"Model Accuracy: {accuracy:.2f}\")\n",
    "\n",
    "# Save the trained model\n",
    "model_path = \"rf_model_amen10.joblib\"\n",
    "joblib.dump(rf_model, model_path)\n",
    "print(f\"Model saved as {model_path}\")\n",
    "\n",
    "# Function to make predictions\n",
    "def predict_announcement(features):\n",
    "\n",
    "    features_array = np.array(features).reshape(1, -1)  # Ensure correct shape\n",
    "    prediction = rf_model.predict(features_array)\n",
    "    return prediction[0]\n",
    "\n",
    "# Example prediction \n",
    "example_features = X_test.iloc[0].values  # Take the first test row\n",
    "prediction_result = predict_announcement(example_features)\n",
    "print(\"Prediction for example data:\", prediction_result)\n",
    "\n",
    "\n"
   ],
   "id": "6e9ef3b7b86c22b2",
   "outputs": [
    {
     "name": "stdout",
     "output_type": "stream",
     "text": [
      "Categorical Columns: []\n",
      "Model Accuracy: 0.71\n",
      "Model saved as rf_model_amen10.joblib\n",
      "Prediction for example data: Successful\n"
     ]
    },
    {
     "name": "stderr",
     "output_type": "stream",
     "text": [
      "D:\\PycharmProjects\\bibliotheque\\.venv\\Lib\\site-packages\\sklearn\\utils\\validation.py:2739: UserWarning: X does not have valid feature names, but RandomForestClassifier was fitted with feature names\n",
      "  warnings.warn(\n"
     ]
    }
   ],
   "execution_count": 37
  },
  {
   "metadata": {
    "ExecuteTime": {
     "end_time": "2025-03-09T18:34:08.256052Z",
     "start_time": "2025-03-09T18:34:07.060915Z"
    }
   },
   "cell_type": "code",
   "source": [
    "import pandas as pd\n",
    "\n",
    "df = pd.read_csv(\"data_with_amenities_cleared.csv\", encoding=\"latin1\")\n",
    "print(df.columns.tolist())\n"
   ],
   "id": "3b6e97144ee22b1f",
   "outputs": [
    {
     "name": "stdout",
     "output_type": "stream",
     "text": [
      "['geographic_area_id', 'price', 'availability_90', 'review_scores_rating', 'number_of_reviews_l30d', 'host_listings_count', 'host_response_rate', 'host_acceptance_rate', 'minimum_nights', 'maximum_nights', 'host_is_superhost', 'host_has_profile_pic', 'host_identity_verified', 'property_type', 'room_type', 'bathrooms', 'accomodate', 'bedrooms', 'beds', 'parking_gratuit', 'parking_payant', 'wifi', 'TV', 'microwave', 'dishwasher', 'clothes_washer', 'workspace', 'air_conditionner', 'heater', 'elevator', 'self_check_in', 'long_term_stay', 'bath_tub', 'coffee', 'luggage_storage', 'lockbox', 'security_cameras', 'host_greets_you', 'pets_allowed', 'view', 'smoking', 'pool', 'board_games', 'gym', 'fireplace', 'hot_tub', 'breakfast', 'days_since_host', 'days_since_online', 'continent', 'country', 'Entire rental unit', 'Private room in rental unit', 'Private room in home', 'Entire home', 'Entire condo', 'Shared room in home', 'Private room in townhouse', 'Entire serviced apartment', 'Private room in condo', 'Entire guesthouse', 'Entire bungalow', 'Entire guest suite', 'Entire townhouse', 'Shared room in hostel', 'Entire loft', 'Private room in hostel', 'Private room in guest suite', 'Entire cottage', 'Private room in tiny home', 'Private room in guesthouse', 'Private room in villa', 'Tiny home', 'Private room in bed and breakfast', 'Shared room in bungalow', 'Private room in earthen home', 'Private room in loft', 'Barn', 'Entire villa', 'Private room', 'Shared room', 'Entire home/apt', 'Hotel room', 'Thaïlande', 'France', 'United Kingdom', 'Australie', 'USA', 'Argentine', 'Bresil', 'Japon', 'Espagne', 'success_score', 'prediction']\n"
     ]
    }
   ],
   "execution_count": 6
  },
  {
   "metadata": {
    "tags": [
     "feature importance"
    ],
    "ExecuteTime": {
     "end_time": "2025-03-09T19:14:46.905961Z",
     "start_time": "2025-03-09T19:14:46.732804Z"
    }
   },
   "cell_type": "code",
   "source": [
    "import matplotlib.pyplot as plt\n",
    "# === STEP 4: COMPUTE FEATURE IMPORTANCE ===\n",
    "if hasattr(rf_model, \"feature_importances_\"):\n",
    "    feature_importances = rf_model.feature_importances_\n",
    "    \n",
    "    # Create a DataFrame for feature importance\n",
    "    importance_df = pd.DataFrame({\n",
    "        \"Feature\": feature_columns,\n",
    "        \"Importance\": feature_importances\n",
    "    }).sort_values(by=\"Importance\", ascending=False)\n",
    "\n",
    "    # Display top features\n",
    "    print(\"\\nTop 20 Important Features:\")\n",
    "    print(importance_df.head(20))\n",
    "\n",
    "    # === STEP 5: PLOT FEATURE IMPORTANCE ===\n",
    "    plt.figure(figsize=(12, 6))\n",
    "    plt.barh(importance_df[\"Feature\"][:50], importance_df[\"Importance\"][:50])  # Show top 20 features\n",
    "    plt.xlabel(\"Feature Importance Score\")\n",
    "    plt.ylabel(\"Features\")\n",
    "    plt.title(\"Top Important Features\")\n",
    "    plt.gca().invert_yaxis()  # Highest importance at the top\n",
    "    plt.show()\n",
    "    \n",
    "else:\n",
    "    print(\"The model does not support feature importance extraction.\")"
   ],
   "id": "3e6c0357364f43c1",
   "outputs": [
    {
     "name": "stdout",
     "output_type": "stream",
     "text": [
      "\n",
      "Top 20 Important Features:\n",
      "                Feature  Importance\n",
      "0                 price    0.237171\n",
      "6       days_since_host    0.208714\n",
      "3  host_acceptance_rate    0.134944\n",
      "4        minimum_nights    0.116286\n",
      "1   host_listings_count    0.112830\n",
      "5        maximum_nights    0.109761\n",
      "2    host_response_rate    0.080294\n"
     ]
    },
    {
     "data": {
      "text/plain": [
       "<Figure size 1200x600 with 1 Axes>"
      ],
      "image/png": "[encoded data removed]"
     },
     "metadata": {},
     "output_type": "display_data"
    }
   ],
   "execution_count": 35
  },
  {
   "metadata": {
    "tags": [
     "matching denormalised and normalised data"
    ],
    "ExecuteTime": {
     "end_time": "2025-03-09T19:18:59.159517Z",
     "start_time": "2025-03-09T19:18:57.542298Z"
    }
   },
   "cell_type": "code",
   "source": [
    "import pandas as pd\n",
    "import joblib\n",
    "from sklearn.preprocessing import StandardScaler\n",
    "from datetime import datetime\n",
    "\n",
    "# Load datasets\n",
    "normalized_data_path = \"data_with_amenities_cleared.csv\"   # Replace with actual file path\n",
    "denormalized_data_path = \"denormalized_data_with_amenities_cleared.csv\"  # Replace with actual file path\n",
    "\n",
    "df_normalized = pd.read_csv(normalized_data_path, encoding=\"latin1\")\n",
    "df_denormalized = pd.read_csv(denormalized_data_path, encoding=\"latin1\")\n",
    "\n",
    "# Ensure both datasets have the same columns\n",
    "if not all(df_normalized.columns == df_denormalized.columns):\n",
    "    raise ValueError(\"Mismatch between normalized and denormalized data columns!\")\n",
    "\n",
    "# List of columns to exclude (IDs, dates, or categorical text columns)\n",
    "excluded_columns = [\n",
    "    \"geographic_area_id\", \"latitude\", \"longitude\", \"fact_listing_id\", \"host_id\",\n",
    "    \"property_id\", \"first_review_date_id\", \"last_review_date_id\", \"calendar_last_scraped_date_id\"\n",
    "]\n",
    "\n",
    "# Convert date columns to numerical format (days since 2000-01-01)\n",
    "date_reference = datetime(2000, 1, 1)\n",
    "\n",
    "for date_col in [\"first_review_date_id\", \"last_review_date_id\", \"calendar_last_scraped_date_id\"]:\n",
    "    if date_col in df_denormalized.columns:\n",
    "        df_denormalized[date_col] = pd.to_datetime(df_denormalized[date_col], errors=\"coerce\")\n",
    "        df_denormalized[date_col] = (df_denormalized[date_col] - date_reference).dt.days\n",
    "\n",
    "# Drop excluded columns (IDs, non-numeric)\n",
    "df_denormalized_cleaned = df_denormalized.drop(columns=[col for col in excluded_columns if col in df_denormalized.columns], errors=\"ignore\")\n",
    "\n",
    "# Ensure only numerical data is used for normalization\n",
    "numeric_columns = df_denormalized_cleaned.select_dtypes(include=[\"number\"]).columns\n",
    "df_denormalized_cleaned = df_denormalized_cleaned[numeric_columns]\n",
    "\n",
    "# Fit the scaler using the cleaned denormalized data\n",
    "scaler = StandardScaler()\n",
    "scaler.fit(df_denormalized_cleaned)  # Fit on numeric data only\n",
    "\n",
    "# Save the scaler for future use\n",
    "scaler_path = \"scaler_amen.joblib\"\n",
    "joblib.dump(scaler, scaler_path)\n",
    "print(f\"Scaler saved as {scaler_path}\")"
   ],
   "id": "3fefcf36949deb52",
   "outputs": [
    {
     "name": "stdout",
     "output_type": "stream",
     "text": [
      "Scaler saved as scaler_amen.joblib\n"
     ]
    }
   ],
   "execution_count": 40
  },
  {
   "metadata": {
    "tags": [
     "fitting scaler"
    ],
    "ExecuteTime": {
     "end_time": "2025-03-09T19:22:48.868441Z",
     "start_time": "2025-03-09T19:22:47.479482Z"
    }
   },
   "cell_type": "code",
   "source": [
    "import numpy as np\n",
    "import joblib\n",
    "import pandas as pd\n",
    "from sklearn.preprocessing import StandardScaler\n",
    "\n",
    "# Load the trained Random Forest model\n",
    "model_path = \"rf_model_amen10.joblib\"\n",
    "rf_model = joblib.load(model_path)\n",
    "\n",
    "# Load the trained scaler (from full 103 features)\n",
    "scaler_path = \"scaler_amen.joblib\"\n",
    "full_scaler = joblib.load(scaler_path)\n",
    "\n",
    "# Load dataset to extract correct scaling for the top 20 features\n",
    "denormalized_data_path = \"denormalized_data_with_amenities_cleared.csv\"  \n",
    "df_denormalized = pd.read_csv(denormalized_data_path, encoding=\"latin1\")\n",
    "\n",
    "# Define the top 20 important features\n",
    "top_20_features =  ['price', 'host_listings_count', 'host_response_rate', 'host_acceptance_rate', 'minimum_nights', 'maximum_nights', 'accomodate', 'TV',  'bath_tub',  'days_since_host']\n",
    "\n",
    "\n",
    "# Extract only the columns needed for normalization\n",
    "df_selected = df_denormalized[top_20_features]\n",
    "\n",
    "# Fit a new scaler on the 20 selected features\n",
    "scaler = StandardScaler()\n",
    "scaler.fit(df_selected)  # Fit only on the required features\n",
    "\n",
    "# Save this new scaler for future use\n",
    "joblib.dump(scaler, \"scaler_amen10.joblib\")\n",
    "print(\"New scaler for 10 features saved as 'scaler_amen10.joblib'\")\n",
    "\n",
    "# Sample input before normalization (replace with real values)\n",
    "sample_input = {\n",
    "    # \"price\": 120,\n",
    "    # \"number_of_reviews_ltm\": 50,\n",
    "    # \"number_of_reviews\": 30,\n",
    "    # \"host_acceptance_rate\": 95,\n",
    "    # \"host_total_listings_count\": 2,\n",
    "    # \"maximum_nights\": 365,\n",
    "    # \"maximum_minimum_nights\": 30,\n",
    "    # \"host_listings_count\": 1,\n",
    "    # \"minimum_nights\": 3,\n",
    "    # \"minimum_minimum_nights\": 1,\n",
    "    # \"calculated_host_listings_count_entire_homes\": 1,\n",
    "    # \"calculated_host_listings_count\": 1,\n",
    "    # \"minimum_nights_avg_ntm\": 5,\n",
    "    # \"number_of_reviews_l30d\": 2,\n",
    "    # \"host_response_rate\": 90,\n",
    "    # \"minimum_maximum_nights\": 100,\n",
    "    # \"maximum_nights_avg_ntm\": 200,\n",
    "    # \"maximum_maximum_nights\": 365,\n",
    "    # \"accomodate\": 4,\n",
    "    # \"beds\": 2\n",
    "    'price': 120,\n",
    "    'host_listings_count': 3,\n",
    "    'host_response_rate': 95.0,\n",
    "    'host_acceptance_rate': 98.0,\n",
    "    'minimum_nights': 2,\n",
    "    'maximum_nights': 30,\n",
    "    'accomodate': 4,\n",
    "    'TV': 1,            # 1 means TV is available, 0 means not available\n",
    "    'bath_tub': 1,      # 1 means bath tub is available, 0 means not available\n",
    "    'days_since_host': 400\n",
    "\n",
    "}\n",
    "\n",
    "# Ensure all necessary features exist\n",
    "for feature in top_20_features:\n",
    "    if feature not in sample_input:\n",
    "        sample_input[feature] = 0  # Default missing values to 0\n",
    "\n",
    "# Convert dictionary to NumPy array\n",
    "sample_array = np.array([sample_input[feature] for feature in top_20_features]).reshape(1, -1)\n",
    "\n",
    "# Load the new scaler for 20 features\n",
    "scaler_10 = joblib.load(\"scaler_amen10.joblib\")\n",
    "\n",
    "# Normalize the input sample using the new scaler\n",
    "normalized_sample = scaler_10.transform(sample_array)\n",
    "\n",
    "# Make a prediction\n",
    "prediction = rf_model.predict(normalized_sample)\n",
    "\n",
    "try:\n",
    "    probability = rf_model.predict_proba(normalized_sample)\n",
    "    print(f\"\\nPrediction: {prediction[0]}\")\n",
    "    print(f\"Probability: {probability[0]}\")\n",
    "except AttributeError:\n",
    "    print(f\"\\nPrediction: {prediction[0]}\")\n"
   ],
   "id": "cb78734df6d63d5f",
   "outputs": [
    {
     "name": "stdout",
     "output_type": "stream",
     "text": [
      "New scaler for 10 features saved as 'scaler_amen10.joblib'\n",
      "\n",
      "Prediction: Very Successful\n",
      "Probability: [0.36 0.05 0.59]\n"
     ]
    },
    {
     "name": "stderr",
     "output_type": "stream",
     "text": [
      "D:\\PycharmProjects\\bibliotheque\\.venv\\Lib\\site-packages\\sklearn\\utils\\validation.py:2739: UserWarning: X does not have valid feature names, but StandardScaler was fitted with feature names\n",
      "  warnings.warn(\n",
      "D:\\PycharmProjects\\bibliotheque\\.venv\\Lib\\site-packages\\sklearn\\utils\\validation.py:2739: UserWarning: X does not have valid feature names, but RandomForestClassifier was fitted with feature names\n",
      "  warnings.warn(\n",
      "D:\\PycharmProjects\\bibliotheque\\.venv\\Lib\\site-packages\\sklearn\\utils\\validation.py:2739: UserWarning: X does not have valid feature names, but RandomForestClassifier was fitted with feature names\n",
      "  warnings.warn(\n"
     ]
    }
   ],
   "execution_count": 42
  }
 ],
 "metadata": {
  "kernelspec": {
   "display_name": "Python 3",
   "language": "python",
   "name": "python3"
  },
  "language_info": {
   "codemirror_mode": {
    "name": "ipython",
    "version": 2
   },
   "file_extension": ".py",
   "mimetype": "text/x-python",
   "name": "python",
   "nbconvert_exporter": "python",
   "pygments_lexer": "ipython2",
   "version": "2.7.6"
  }
 },
 "nbformat": 4,
 "nbformat_minor": 5
}
